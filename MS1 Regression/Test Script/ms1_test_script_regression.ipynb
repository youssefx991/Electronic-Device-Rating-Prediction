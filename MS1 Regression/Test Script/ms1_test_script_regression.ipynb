{
  "cells": [
    {
      "cell_type": "markdown",
      "metadata": {},
      "source": [
        "# Import Libraries"
      ]
    },
    {
      "cell_type": "code",
      "execution_count": 15,
      "metadata": {
        "id": "3C-joCuF3Qoz"
      },
      "outputs": [],
      "source": [
        "# Import Libraries\n",
        "import numpy as np\n",
        "import pandas as pd\n",
        "from sklearn.preprocessing import LabelEncoder, OneHotEncoder\n",
        "from sklearn.metrics import mean_squared_error, r2_score, accuracy_score\n",
        "import pickle\n",
        "from sklearn import linear_model\n",
        "import re\n",
        "from sklearn.model_selection import train_test_split"
      ]
    },
    {
      "cell_type": "markdown",
      "metadata": {},
      "source": [
        "# Helper Functions"
      ]
    },
    {
      "cell_type": "code",
      "execution_count": 16,
      "metadata": {},
      "outputs": [],
      "source": [
        "# Load Model\n",
        "def load(file_path):\n",
        "    loaded_model = pickle.load(open(file_path, 'rb'))\n",
        "    return loaded_model"
      ]
    },
    {
      "cell_type": "code",
      "execution_count": 17,
      "metadata": {},
      "outputs": [],
      "source": [
        "# Extract number from string\n",
        "def extract_number(number_string, mode_value=0):\n",
        "    if isinstance(number_string, str):\n",
        "        match = re.search(r'\\d+', number_string)  # Find the first occurrence of one or more digits\n",
        "        if match:\n",
        "            return int(match.group())  # Convert the matched digits to an integer\n",
        "        else:\n",
        "            return mode_value  # If no digits found, return 0\n",
        "    else:\n",
        "        return number_string"
      ]
    },
    {
      "cell_type": "code",
      "execution_count": 18,
      "metadata": {},
      "outputs": [],
      "source": [
        "# Fill nulls with mode value\n",
        "def fill_nulls(data):\n",
        "     for col, mode in mode_dict.items():\n",
        "        data[col].fillna(mode, inplace=True)"
      ]
    },
    {
      "cell_type": "code",
      "execution_count": 19,
      "metadata": {},
      "outputs": [],
      "source": [
        "# Handle Missing Values\n",
        "def remove_outliers(data):\n",
        "\n",
        "    lower_bound = {'brand': -5.0, 'processor_name': -2.5, 'processor_gnrtn': 8.5, 'ram_gb': -2.0, 'ram_type': 3.0, 'ssd': -128.0, 'hdd': -768.0, 'graphic_card_gb': -3.0, 'weight': -0.5, 'warranty': -1.5, 'Touchscreen': 0.0, 'msoffice': -1.5, 'Price': -19869.0, 'Number of Ratings': -231.0, 'Number of Reviews': -29.25, 'os_bits': 64.0, 'AMD': 0.0, 'Intel': -1.5, 'M1': 0.0, 'DOS': 0.0, 'Mac': 0.0, 'Windows': 1.0}\n",
        "    upper_bound = {'brand': 11.0, 'processor_name': 9.5, 'processor_gnrtn': 12.5, 'ram_gb': 14.0, 'ram_type': 3.0, 'ssd': 896.0, 'hdd': 1280.0, 'graphic_card_gb': 5.0, 'weight': 3.5, 'warranty': 2.5, 'Touchscreen': 0.0, 'msoffice': 2.5, 'Price': 155675.0, 'Number of Ratings': 385.0, 'Number of Reviews': 48.75, 'os_bits': 64.0, 'AMD': 0.0, 'Intel': 2.5, 'M1': 0.0, 'DOS': 0.0, 'Mac': 0.0, 'Windows': 1.0}\n",
        "\n",
        "    s = ['ram_type' ,'Touchscreen', 'os_bits' , 'AMD' , 'M1' , 'DOS' , 'Mac' , 'Windows' ]\n",
        "\n",
        "    # Replace the outliers with lower_bound or upper_bound values\n",
        "    for col in data.iloc[:,:-1]:\n",
        "        if col not in s:\n",
        "            data.loc[data[col] < lower_bound[col], col] = lower_bound[col]\n",
        "            data.loc[data[col] > upper_bound[col], col] = upper_bound[col]\n",
        "\n",
        "    return data"
      ]
    },
    {
      "cell_type": "code",
      "execution_count": 20,
      "metadata": {},
      "outputs": [],
      "source": [
        "# # Feature selection using chi-squared\n",
        "# def feature_selection(data):\n",
        "#     selected_indices = [ 0,  1,  2,  3,  4,  5,  6,  7,  8,  9, 10, 11, 12, 13, 14, 15, 16, 17, 18, 19, 20, 21]\n",
        "#     data = data.iloc[: , selected_indices]\n",
        "#     return data"
      ]
    },
    {
      "cell_type": "code",
      "execution_count": 21,
      "metadata": {
        "id": "WZqHYNWN5Xhj"
      },
      "outputs": [],
      "source": [
        "# Execute Model\n",
        "def execute_model(model, X_test, Y_test, model_name):\n",
        "    Y_test_pred = model.predict(X_test)\n",
        "    mse = mean_squared_error(Y_test, Y_test_pred)\n",
        "    r2 = r2_score(Y_test, Y_test_pred)\n",
        "    print(f\"{model_name}:\\nMSE: {mse}\\nR2 Score: {r2}\\n\")\n"
      ]
    },
    {
      "cell_type": "markdown",
      "metadata": {},
      "source": [
        "# Preprocess Data"
      ]
    },
    {
      "cell_type": "code",
      "execution_count": 22,
      "metadata": {
        "id": "ETwjyXnB3zGI"
      },
      "outputs": [],
      "source": [
        "\n",
        "def preprocess_data(data):\n",
        "    # filling nulls\n",
        "    fill_nulls(data)\n",
        "\n",
        "    # processor_gnrtn\n",
        "    # replace not available with mode\n",
        "    data['processor_gnrtn'].replace('Not Available', '11th', inplace = True)\n",
        "\n",
        "    # extract number from string else replace sith mode\n",
        "    data['processor_gnrtn'] = data['processor_gnrtn'].apply(lambda x: extract_number(x, 11))\n",
        "\n",
        "    # ram_gb\n",
        "    # extract number from string else replace sith mode\n",
        "    data['ram_gb'] = data['ram_gb'].apply(lambda x: extract_number(x, 8))\n",
        "\n",
        "    # ssd\n",
        "    # extract number from string else replace sith mode\n",
        "    data['ssd'] = data['ssd'].apply(lambda x: extract_number(x, 512))\n",
        "\n",
        "    # hdd\n",
        "    # extract number from string else replace sith mode\n",
        "    data['hdd'] = data['hdd'].apply(lambda x: extract_number(x, 0))\n",
        "\n",
        "\n",
        "    # os\n",
        "    # split os column to two columns\n",
        "    data[['os_bits', 'os_type']] = data['os'].str.split(' ', expand=True)\n",
        "    data = data.drop('os', axis = 1)\n",
        "\n",
        "    # extract number from string else replace sith mode\n",
        "    data['os_bits'] = data['os_bits'].apply(lambda x: extract_number(x, 64))\n",
        "\n",
        "    # graphic_card_gb\n",
        "    # extract number from string else replace sith mode\n",
        "    data['graphic_card_gb'] = data['graphic_card_gb'].apply(lambda x: extract_number(x, 0))\n",
        "\n",
        "\n",
        "    # warranty\n",
        "    # extract number from string else replace sith mode\n",
        "\n",
        "    data['warranty'].replace('No warranty', '0', inplace = True)\n",
        "    data['warranty'] = data['warranty'].apply(lambda x: extract_number(x, 1))\n",
        "\n",
        "\n",
        "    # Touchscreen\n",
        "    touch_screen_mapping = {\n",
        "        'No': 0,\n",
        "        'Yes': 1\n",
        "    }\n",
        "\n",
        "    # map each value else replace with mode\n",
        "    data['Touchscreen'] = data['Touchscreen'].map(touch_screen_mapping).fillna(0)\n",
        "\n",
        "\n",
        "    # msoffice\n",
        "    msoffice_screen_mapping = {\n",
        "        'No': 0,\n",
        "        'Yes': 1\n",
        "    }\n",
        "\n",
        "    # map each value else replace with mode\n",
        "    data['msoffice'] = data['msoffice'].map(msoffice_screen_mapping).fillna(0)\n",
        "\n",
        "\n",
        "    # rating\n",
        "    data['rating'] = data['rating'].apply(lambda x: extract_number(x, 4))\n",
        "\n",
        "\n",
        "    # ram_type\n",
        "    ram_performance_mapping = {\n",
        "        'LPDDR4X': 5,\n",
        "        'LPDDR4': 4,\n",
        "        'DDR4': 3,\n",
        "        'DDR3': 2,\n",
        "        'DDR5': 6,\n",
        "        'LPDDR3': 1\n",
        "    }\n",
        "\n",
        "    data['ram_type'] = data['ram_type'].map(ram_performance_mapping).fillna(3)\n",
        "    # data['ram_type'].value_counts()\n",
        "\n",
        "    # weight\n",
        "    weight = {\n",
        "        'Casual':2,\n",
        "        'ThinNlight':1,\n",
        "        'Gaming':3,\n",
        "    }\n",
        "\n",
        "    # map each value else replace with mode\n",
        "    data['weight'] = data['weight'].map(weight).fillna(2)\n",
        "\n",
        "\n",
        "    brand_mapping = {\n",
        "    'ASUS': 1,\n",
        "    'Lenovo': 5,\n",
        "    'HP': 4,\n",
        "    'APPLE': 0,\n",
        "    'DELL': 3,\n",
        "    'acer': 7,\n",
        "    'MSI': 6,\n",
        "    'Avita': 2\n",
        "    }\n",
        "\n",
        "    # map each value else replace with mode\n",
        "    data['brand'] = data['brand'].map(brand_mapping).fillna(1)\n",
        "\n",
        "\n",
        "    processor_name_mapping = {\n",
        "    'Pentium Quad': 6,\n",
        "    'Core i5': 2,\n",
        "    'Celeron Dual': 0,\n",
        "    'Core i3': 1,\n",
        "    'Ryzen 7': 9,\n",
        "    'M1': 5,\n",
        "    'Ryzen 5': 8,\n",
        "    'Core i7': 3,\n",
        "    'Ryzen 3': 7,\n",
        "    'Ryzen 9': 10,\n",
        "    'Core i9': 4\n",
        "    }\n",
        "\n",
        "    # map each value else replace with mode\n",
        "    data['processor_name'] = data['processor_name'].map(processor_name_mapping).fillna(2)\n",
        "\n",
        "\n",
        "    # Apply One-Hot Encoders to data\n",
        "    # processor brand\n",
        "    data['processor_brand'] = data['processor_brand'].apply(lambda x: x if x in ['AMD', 'Intel', 'M1'] else 'Intel')\n",
        "\n",
        "    one_hot_encoded = pd.get_dummies(data['processor_brand'])\n",
        "    one_hot_encoded = one_hot_encoded.astype(int)\n",
        "\n",
        "\n",
        "    data = data.drop('processor_brand', axis = 1)\n",
        "    data = pd.concat([data, one_hot_encoded], axis=1)\n",
        "\n",
        "\n",
        "    missing_column = 'AMD'\n",
        "    if missing_column not in data.columns:\n",
        "        data[missing_column] = 0\n",
        "\n",
        "    missing_column = 'Intel'\n",
        "    if missing_column not in data.columns:\n",
        "        data[missing_column] = 0\n",
        "\n",
        "    missing_column = 'M1'\n",
        "    if missing_column not in data.columns:\n",
        "        data[missing_column] = 0\n",
        "\n",
        "\n",
        "    # os_type\n",
        "    data['os_type'] = data['os_type'].apply(lambda x: x if x in ['DOS', 'Mac', 'Windows'] else 'Windows')\n",
        "\n",
        "\n",
        "    one_hot_encoded = pd.get_dummies(data['os_type'])\n",
        "    one_hot_encoded = one_hot_encoded.astype(int)\n",
        "    data = data.drop('os_type', axis = 1)\n",
        "    data = pd.concat([data, one_hot_encoded], axis=1)\n",
        "\n",
        "\n",
        "    missing_column = 'DOS'\n",
        "    if missing_column not in data.columns:\n",
        "        data[missing_column] = 0\n",
        "\n",
        "    missing_column = 'Mac'\n",
        "    if missing_column not in data.columns:\n",
        "        data[missing_column] = 0\n",
        "\n",
        "    missing_column = 'Windows'\n",
        "    if missing_column not in data.columns:\n",
        "        data[missing_column] = 0\n",
        "\n",
        "\n",
        "    # Replace target column\n",
        "    rating_col = data['rating']\n",
        "    data = data.drop('rating', axis = 1)\n",
        "    data = pd.concat([data, rating_col], axis=1)\n",
        "\n",
        "    data = remove_outliers(data)\n",
        "\n",
        "\n",
        "    return data"
      ]
    },
    {
      "cell_type": "markdown",
      "metadata": {},
      "source": [
        "# Load Data"
      ]
    },
    {
      "cell_type": "code",
      "execution_count": 23,
      "metadata": {},
      "outputs": [],
      "source": [
        "mode_dict = {'brand': 'ASUS',\n",
        "             'processor_brand': 'Intel',\n",
        "             'processor_name': 'Core i5',\n",
        "             'processor_gnrtn': '11th',\n",
        "             'ram_gb': '8 GB',\n",
        "             'ram_type': 'DDR4',\n",
        "             'ssd': '512 GB',\n",
        "             'hdd': '0 GB',\n",
        "             'os': '64-bit Windows',\n",
        "             'graphic_card_gb': '0 GB',\n",
        "             'weight': 'Casual',\n",
        "             'warranty': '1 year',\n",
        "             'Touchscreen': 'No',\n",
        "             'msoffice': 'No',\n",
        "             'Price': 77031,\n",
        "             'rating': 'Good Rating',\n",
        "             'Number of Ratings': 0,\n",
        "             'Number of Reviews': 0}"
      ]
    },
    {
      "cell_type": "code",
      "execution_count": 24,
      "metadata": {},
      "outputs": [],
      "source": [
        "# Load Model\n",
        "linear_regression_model = load('../MS1 test script regression.sav')"
      ]
    },
    {
      "cell_type": "code",
      "execution_count": 25,
      "metadata": {},
      "outputs": [],
      "source": [
        "# Load Test Data\n",
        "test_data = pd.read_csv('../ElecDeviceRatingPrediction.csv')"
      ]
    },
    {
      "cell_type": "code",
      "execution_count": 26,
      "metadata": {},
      "outputs": [
        {
          "name": "stderr",
          "output_type": "stream",
          "text": [
            "C:\\Users\\20115\\AppData\\Local\\Temp\\ipykernel_3012\\1349163923.py:12: FutureWarning: Setting an item of incompatible dtype is deprecated and will raise in a future error of pandas. Value '-2.5' has dtype incompatible with int64, please explicitly cast to a compatible dtype first.\n",
            "  data.loc[data[col] < lower_bound[col], col] = lower_bound[col]\n",
            "C:\\Users\\20115\\AppData\\Local\\Temp\\ipykernel_3012\\1349163923.py:12: FutureWarning: Setting an item of incompatible dtype is deprecated and will raise in a future error of pandas. Value '8.5' has dtype incompatible with int64, please explicitly cast to a compatible dtype first.\n",
            "  data.loc[data[col] < lower_bound[col], col] = lower_bound[col]\n",
            "C:\\Users\\20115\\AppData\\Local\\Temp\\ipykernel_3012\\1349163923.py:12: FutureWarning: Setting an item of incompatible dtype is deprecated and will raise in a future error of pandas. Value '-0.5' has dtype incompatible with int64, please explicitly cast to a compatible dtype first.\n",
            "  data.loc[data[col] < lower_bound[col], col] = lower_bound[col]\n",
            "C:\\Users\\20115\\AppData\\Local\\Temp\\ipykernel_3012\\1349163923.py:12: FutureWarning: Setting an item of incompatible dtype is deprecated and will raise in a future error of pandas. Value '-1.5' has dtype incompatible with int64, please explicitly cast to a compatible dtype first.\n",
            "  data.loc[data[col] < lower_bound[col], col] = lower_bound[col]\n",
            "C:\\Users\\20115\\AppData\\Local\\Temp\\ipykernel_3012\\1349163923.py:12: FutureWarning: Setting an item of incompatible dtype is deprecated and will raise in a future error of pandas. Value '-29.25' has dtype incompatible with int64, please explicitly cast to a compatible dtype first.\n",
            "  data.loc[data[col] < lower_bound[col], col] = lower_bound[col]\n",
            "C:\\Users\\20115\\AppData\\Local\\Temp\\ipykernel_3012\\1349163923.py:12: FutureWarning: Setting an item of incompatible dtype is deprecated and will raise in a future error of pandas. Value '-1.5' has dtype incompatible with int32, please explicitly cast to a compatible dtype first.\n",
            "  data.loc[data[col] < lower_bound[col], col] = lower_bound[col]\n"
          ]
        }
      ],
      "source": [
        "# Preprocess Test Data\n",
        "test_data = preprocess_data(test_data)"
      ]
    },
    {
      "cell_type": "code",
      "execution_count": 27,
      "metadata": {
        "colab": {
          "base_uri": "https://localhost:8080/"
        },
        "id": "IbTY8_5739Bg",
        "outputId": "c22609c7-9f02-4fc9-cf64-e530085482e5"
      },
      "outputs": [],
      "source": [
        "# Ensure test data has the same features as training data\n",
        "X_test = test_data[['brand', 'processor_name', 'processor_gnrtn', 'ram_gb', 'ram_type',\n",
        "   'ssd', 'hdd', 'graphic_card_gb', 'weight', 'warranty', 'Touchscreen',\n",
        "   'msoffice', 'Price', 'Number of Ratings', 'Number of Reviews',\n",
        "   'os_bits', 'AMD', 'Intel', 'M1', 'DOS', 'Mac', 'Windows', 'rating']]\n",
        "\n",
        "X_test = X_test.iloc[:, :-1]\n",
        "Y_test = test_data['rating']\n",
        "\n",
        "# print(test_data)"
      ]
    },
    {
      "cell_type": "code",
      "execution_count": 28,
      "metadata": {
        "id": "dmzqaGC44D_f"
      },
      "outputs": [
        {
          "name": "stdout",
          "output_type": "stream",
          "text": [
            "Linear Regression:\n",
            "MSE: 0.2365221538347133\n",
            "R2 Score: 0.25227100724604856\n",
            "\n"
          ]
        }
      ],
      "source": [
        "execute_model(linear_regression_model, X_test, Y_test, \"Linear Regression\")"
      ]
    }
  ],
  "metadata": {
    "colab": {
      "provenance": []
    },
    "kernelspec": {
      "display_name": "Python 3",
      "name": "python3"
    },
    "language_info": {
      "codemirror_mode": {
        "name": "ipython",
        "version": 3
      },
      "file_extension": ".py",
      "mimetype": "text/x-python",
      "name": "python",
      "nbconvert_exporter": "python",
      "pygments_lexer": "ipython3",
      "version": "3.11.7"
    }
  },
  "nbformat": 4,
  "nbformat_minor": 0
}
