{
  "nbformat": 4,
  "nbformat_minor": 0,
  "metadata": {
    "colab": {
      "provenance": []
    },
    "kernelspec": {
      "name": "python3",
      "display_name": "Python 3"
    },
    "language_info": {
      "name": "python"
    }
  },
  "cells": [
    {
      "cell_type": "code",
      "execution_count": 10,
      "metadata": {
        "id": "3C-joCuF3Qoz"
      },
      "outputs": [],
      "source": [
        "# Import Libraries\n",
        "import numpy as np\n",
        "import pandas as pd\n",
        "from sklearn.preprocessing import LabelEncoder, OneHotEncoder\n",
        "from sklearn.metrics import mean_squared_error, r2_score, accuracy_score\n",
        "import pickle\n",
        "from sklearn import linear_model\n"
      ]
    },
    {
      "cell_type": "code",
      "source": [
        "#========================================================== Helper Functions ========================================================================\n",
        "\n",
        "def remove_value(data, column_name, string_to_replace, replace_value='', change_dataType=True):\n",
        "  data[column_name] = data[column_name].str.replace(string_to_replace, replace_value)\n",
        "  if change_dataType:\n",
        "    data[column_name] = data[column_name].astype(int)\n",
        "\n",
        "\n",
        "def fill_nulls(data):\n",
        "     mode_dict = {'brand': 'ASUS',\n",
        "                  'processor_brand': 'Intel',\n",
        "                  'processor_name': 'Core i5',\n",
        "                  'processor_gnrtn': '11th',\n",
        "                  'ram_gb': '8 GB',\n",
        "                  'ram_type': 'DDR4',\n",
        "                  'ssd': '512 GB',\n",
        "                  'hdd': '0 GB',\n",
        "                  'os': '64-bit Windows',\n",
        "                  'graphic_card_gb': '0 GB',\n",
        "                  'weight': 'Casual',\n",
        "                  'warranty': '1 year',\n",
        "                  'Touchscreen': 'No',\n",
        "                  'msoffice': 'No',\n",
        "                  'Price': 64990,\n",
        "                  'rating': '4 stars',\n",
        "                  'Number of Ratings': 0,\n",
        "                  'Number of Reviews': 0}\n",
        "\n",
        "\n",
        "\n",
        "     for col, mode in mode_dict.items():\n",
        "        data[col].fillna(mode, inplace=True)\n"
      ],
      "metadata": {
        "id": "WZqHYNWN5Xhj"
      },
      "execution_count": 11,
      "outputs": []
    },
    {
      "cell_type": "code",
      "source": [
        "# Load Model\n",
        "def load(file_path):\n",
        "    loaded_model = pickle.load(open(file_path, 'rb'))\n",
        "    return loaded_model"
      ],
      "metadata": {
        "id": "Bj9Y6TLg3kpJ"
      },
      "execution_count": 12,
      "outputs": []
    },
    {
      "cell_type": "code",
      "source": [
        "# Feature Encoder\n",
        "def feature_encoder(X, cols):\n",
        "    for c in cols:\n",
        "        lbl = LabelEncoder()\n",
        "        lbl.fit(list(X[c].values))\n",
        "        X[c] = lbl.transform(list(X[c].values))\n",
        "    return X"
      ],
      "metadata": {
        "id": "AxbCCa-m3qwX"
      },
      "execution_count": 13,
      "outputs": []
    },
    {
      "cell_type": "code",
      "source": [
        "# Execute Model\n",
        "def execute_model(model, X_test, Y_test, model_name):\n",
        "    Y_test_pred = model.predict(X_test)\n",
        "\n",
        "    if model_name in ['Linear Regression', 'Polynomial Regression']:\n",
        "        mse = mean_squared_error(Y_test, Y_test_pred)\n",
        "        r2 = r2_score(Y_test, Y_test_pred)\n",
        "        print(f\"{model_name}:\\nMSE: {mse}\\nR2 Score: {r2}\\n\")\n",
        "    else:\n",
        "        print(\"Only regression models are supported.\")"
      ],
      "metadata": {
        "id": "OulcXCwB3vdA"
      },
      "execution_count": 14,
      "outputs": []
    },
    {
      "cell_type": "code",
      "source": [
        "# Load Data\n",
        "def load_data(file_path):\n",
        "    data = pd.read_csv(file_path)\n",
        "    return data"
      ],
      "metadata": {
        "id": "Y_xRD8_o3xgZ"
      },
      "execution_count": 15,
      "outputs": []
    },
    {
      "cell_type": "code",
      "source": [
        "# Preprocess Data\n",
        "def preprocess_data(data, encoders, one_hot_encoders):\n",
        "    # filling nulls\n",
        "    fill_nulls(data)\n",
        "\n",
        "    # processor_gnrtn\n",
        "    mode_value = data['processor_gnrtn'].mode()[0]\n",
        "    data['processor_gnrtn'].replace('Not Available', mode_value, inplace = True)\n",
        "    remove_value(data, 'processor_gnrtn', 'th')\n",
        "\n",
        "    # ram_gb\n",
        "    remove_value(data,'ram_gb' ,' GB')\n",
        "\n",
        "    # ssd\n",
        "    remove_value(data,'ssd' ,' GB')\n",
        "\n",
        "    # hdd\n",
        "    remove_value(data,'hdd' ,' GB')\n",
        "\n",
        "    # os\n",
        "    data[['os_bits', 'os_type']] = data['os'].str.split(' ', expand=True)\n",
        "    data = data.drop('os', axis = 1)\n",
        "    remove_value(data,'os_bits' ,'-bit')\n",
        "\n",
        "    # graphic_card_gb\n",
        "    remove_value(data,'graphic_card_gb' ,' GB')\n",
        "\n",
        "    # warranty\n",
        "    remove_value(data,'warranty' ,'No warranty', '0', False)\n",
        "    remove_value(data,'warranty' ,' years', '', False)\n",
        "    remove_value(data,'warranty' ,' year')\n",
        "\n",
        "    # Touchscreen\n",
        "    remove_value(data,'Touchscreen' ,'No', '0', False)\n",
        "    remove_value(data,'Touchscreen' ,'Yes', '1')\n",
        "\n",
        "    # msoffice\n",
        "    remove_value(data,'msoffice' ,'No', '0', False)\n",
        "    remove_value(data,'msoffice' ,'Yes', '1')\n",
        "\n",
        "    # rating\n",
        "    remove_value(data,'rating' ,' stars', '', False)\n",
        "    remove_value(data,'rating' ,' star')\n",
        "\n",
        "    # ram_type\n",
        "    ram_performance_mapping = {\n",
        "        'LPDDR4X': 5,\n",
        "        'LPDDR4': 4,\n",
        "        'DDR4': 3,\n",
        "        'DDR3': 2,\n",
        "        'DDR5': 6,\n",
        "        'LPDDR3': 1\n",
        "    }\n",
        "\n",
        "    data['ram_type'] = data['ram_type'].map(ram_performance_mapping)\n",
        "    # data['ram_type'].value_counts()\n",
        "\n",
        "    # weight\n",
        "    weight = {\n",
        "        'Casual':2,\n",
        "        'ThinNlight':1,\n",
        "        'Gaming':3,\n",
        "    }\n",
        "    data['weight'] = data['weight'].map(weight)\n",
        "\n",
        "\n",
        "    # Apply LabelEncoders to data\n",
        "    for col, encoder in encoders.items():\n",
        "        data[col] = encoder.transform(data[col])\n",
        "\n",
        "\n",
        "\n",
        "     # Apply One-Hot Encoders to data\n",
        "    for col, one_hot_encoder in one_hot_encoders.items():\n",
        "        data = data.drop(col, axis=1)\n",
        "        data = pd.concat([data, one_hot_encoder], axis=1)\n",
        "\n",
        "\n",
        "    # Replace target column\n",
        "    rating_col = data['rating']\n",
        "    data = data.drop('rating', axis = 1)\n",
        "    data = pd.concat([data, rating_col], axis=1)\n",
        "\n",
        "    data = handle_missing_values(data)\n",
        "\n",
        "\n",
        "    return data"
      ],
      "metadata": {
        "id": "ETwjyXnB3zGI"
      },
      "execution_count": 16,
      "outputs": []
    },
    {
      "cell_type": "code",
      "source": [
        "# Handle Missing Values\n",
        "def handle_missing_values(data):\n",
        "    columns_to_exclude = ['ram_type', 'Touchscreen', 'os_bits', 'AMD', 'M1', 'DOS', 'Mac', 'Windows', 'rating','Price']\n",
        "    data_filtered = data.drop(columns=columns_to_exclude)\n",
        "\n",
        "\n",
        "    lower_bound = {'brand': -5.0, 'processor_name': -2.5, 'processor_gnrtn': 8.5, 'ram_gb': -2.0, 'ram_type': 3.0, 'ssd': -128.0, 'hdd': -768.0, 'graphic_card_gb': -3.0, 'weight': -0.5, 'warranty': -1.5, 'Touchscreen': 0.0, 'msoffice': -1.5, 'Price': -19869.0, 'Number of Ratings': -231.0, 'Number of Reviews': -29.25, 'os_bits': 64.0, 'AMD': 0.0, 'Intel': -1.5, 'M1': 0.0, 'DOS': 0.0, 'Mac': 0.0, 'Windows': 1.0}\n",
        "    upper_bound = {'brand': 11.0, 'processor_name': 9.5, 'processor_gnrtn': 12.5, 'ram_gb': 14.0, 'ram_type': 3.0, 'ssd': 896.0, 'hdd': 1280.0, 'graphic_card_gb': 5.0, 'weight': 3.5, 'warranty': 2.5, 'Touchscreen': 0.0, 'msoffice': 2.5, 'Price': 155675.0, 'Number of Ratings': 385.0, 'Number of Reviews': 48.75, 'os_bits': 64.0, 'AMD': 0.0, 'Intel': 2.5, 'M1': 0.0, 'DOS': 0.0, 'Mac': 0.0, 'Windows': 1.0}\n",
        "\n",
        "    s = ['ram_type' ,'Touchscreen', 'os_bits' , 'AMD' , 'M1' , 'DOS' , 'Mac' , 'Windows' ]\n",
        "\n",
        "    # Replace the outliers with lower_bound or upper_bound values\n",
        "    for col in data.iloc[:,:-1]:\n",
        "        if col not in s:\n",
        "            data.loc[data[col] < lower_bound[col], col] = lower_bound[col]\n",
        "            data.loc[data[col] > upper_bound[col], col] = upper_bound[col]\n",
        "\n",
        "    # sns.boxplot(data=data,palette='rainbow',orient='h')\n",
        "    data_filtered = data.drop(columns=columns_to_exclude)\n",
        "    return data"
      ],
      "metadata": {
        "id": "7N-n5u5W32Ag"
      },
      "execution_count": 17,
      "outputs": []
    },
    {
      "cell_type": "code",
      "source": [],
      "metadata": {
        "id": "uU8JdTh6_M9E"
      },
      "execution_count": 17,
      "outputs": []
    },
    {
      "cell_type": "code",
      "source": [
        "    # Load Model\n",
        "    linear_regression_model = load('MS1 test script regression.sav')\n",
        "\n",
        "    # Load saved LabelEncoders\n",
        "    encoders = load('ms1 regression encoders.sav')\n",
        "    one_hot_encoders = load('ms1 regression one hot encoders.sav')\n",
        "\n",
        "    # Load Test Data\n",
        "    test_data = load_data('ElecDeviceRatingPrediction.csv')\n",
        "\n",
        "    # Preprocess Test Data\n",
        "    test_data = preprocess_data(test_data, encoders, one_hot_encoders)\n",
        "\n",
        "    # Ensure test data has the same features as training data\n",
        "    X_test = test_data.iloc[:, :-1]\n",
        "\n",
        "    # Execute Model\n",
        "    Y_test = test_data['rating']\n",
        "    execute_model(linear_regression_model, X_test, Y_test, \"Linear Regression\")\n"
      ],
      "metadata": {
        "colab": {
          "base_uri": "https://localhost:8080/"
        },
        "id": "IbTY8_5739Bg",
        "outputId": "c54813ab-e9cb-4b37-edeb-4f97bd86f8d4"
      },
      "execution_count": 18,
      "outputs": [
        {
          "output_type": "stream",
          "name": "stdout",
          "text": [
            "Linear Regression:\n",
            "MSE: 0.23652215383471298\n",
            "R2 Score: 0.25227100724604967\n",
            "\n"
          ]
        }
      ]
    },
    {
      "cell_type": "code",
      "source": [],
      "metadata": {
        "id": "dmzqaGC44D_f"
      },
      "execution_count": 18,
      "outputs": []
    }
  ]
}